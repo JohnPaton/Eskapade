{
 "cells": [
  {
   "cell_type": "markdown",
   "metadata": {},
   "source": [
    "# Eskapade: MACRONAME"
   ]
  },
  {
   "cell_type": "code",
   "execution_count": null,
   "metadata": {
    "collapsed": true
   },
   "outputs": [],
   "source": [
    "import os\n",
    "import imp\n",
    "import logging\n",
    "## jupyter imports and sets logging already.\n",
    "## need to reload it it set it ourselves.\n",
    "imp.reload(logging)\n",
    "log = logging.getLogger()\n",
    "log.setLevel(logging.DEBUG) # Set the LogLevel here (1/2)"
   ]
  },
  {
   "cell_type": "code",
   "execution_count": 1,
   "metadata": {
    "collapsed": false
   },
   "outputs": [],
   "source": [
    "from eskapade.core import execution\n",
    "from eskapade import ConfigObject, DataStore, ProcessManager\n",
    "#from eskapade import core_ops, analysis, visualization"
   ]
  },
  {
   "cell_type": "code",
   "execution_count": null,
   "metadata": {
    "collapsed": false
   },
   "outputs": [],
   "source": [
    "settings = ProcessManager().service(ConfigObject)\n",
    "\n",
    "# Set your macro path here\n",
    "settings['macro'] = os.environ['ESKAPADE'] + '/tutorials/MACRONAME.py'\n",
    "settings['analysisName'] = 'MACRONAME'\n",
    "settings['version'] = 2\n",
    "settings['logLevel'] = logging.DEBUG # and set the LogLevel here (2/2)"
   ]
  },
  {
   "cell_type": "code",
   "execution_count": null,
   "metadata": {
    "collapsed": true
   },
   "outputs": [],
   "source": [
    "settings.Print()"
   ]
  },
  {
   "cell_type": "code",
   "execution_count": null,
   "metadata": {
    "collapsed": false
   },
   "outputs": [],
   "source": [
    "execution.run_eskapade(settings)"
   ]
  },
  {
   "cell_type": "code",
   "execution_count": null,
   "metadata": {
    "collapsed": true
   },
   "outputs": [],
   "source": [
    "## see what's in the DataStore\n",
    "ds = ProcessManager().service(DataStore)"
   ]
  },
  {
   "cell_type": "code",
   "execution_count": null,
   "metadata": {
    "collapsed": true
   },
   "outputs": [],
   "source": [
    "ds.Print()"
   ]
  },
  {
   "cell_type": "code",
   "execution_count": null,
   "metadata": {
    "collapsed": true
   },
   "outputs": [],
   "source": [
    "## To rerun eskapade, clear the memory state first!\n",
    "execution.reset_eskapade()"
   ]
  }
 ],
 "metadata": {
  "anaconda-cloud": {},
  "kernelspec": {
   "display_name": "Python [Root]",
   "language": "python",
   "name": "Python [Root]"
  },
  "language_info": {
   "codemirror_mode": {
    "name": "ipython",
    "version": 3
   },
   "file_extension": ".py",
   "mimetype": "text/x-python",
   "name": "python",
   "nbconvert_exporter": "python",
   "pygments_lexer": "ipython3",
   "version": "3.5.2"
  }
 },
 "nbformat": 4,
 "nbformat_minor": 0
}
